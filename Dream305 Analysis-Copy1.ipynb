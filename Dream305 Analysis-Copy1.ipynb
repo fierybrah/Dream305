{
 "cells": [
  {
   "cell_type": "markdown",
   "id": "0ebc1084-0215-45f6-b221-f657aeb83f0b",
   "metadata": {},
   "source": [
    "# Dream305 Data Analysis"
   ]
  },
  {
   "cell_type": "code",
   "execution_count": 3,
   "id": "288127f3-24b1-4080-a4cc-0a06ff19d1b1",
   "metadata": {},
   "outputs": [
    {
     "name": "stdout",
     "output_type": "stream",
     "text": [
      "<class 'pandas.core.frame.DataFrame'>\n",
      "RangeIndex: 72 entries, 0 to 71\n",
      "Data columns (total 68 columns):\n",
      " #   Column                                        Non-Null Count  Dtype  \n",
      "---  ------                                        --------------  -----  \n",
      " 0   ZipCode                                       72 non-null     int64  \n",
      " 1   Neighborhood                                  72 non-null     object \n",
      " 2   AverageHouseholdSize                          72 non-null     float64\n",
      " 3   HouseholdwithChildren                         72 non-null     float64\n",
      " 4   Households                                    72 non-null     int64  \n",
      " 5   MedianAge                                     72 non-null     float64\n",
      " 6   MedianHouseholdIncome                         72 non-null     int64  \n",
      " 7   PercentHouseholdChange2020to2023              72 non-null     float64\n",
      " 8   AverageCommuteTime(Minutes)                   72 non-null     int64  \n",
      " 9   Population16+:Unemployed%                     72 non-null     float64\n",
      " 10  TransportationtoWork:Bicycle(%)               72 non-null     float64\n",
      " 11  TransportationtoWork:PublicTransportation(%)  72 non-null     float64\n",
      " 12  TransportationtoWork:Walked(%)                72 non-null     float64\n",
      " 13  H/L%                                          72 non-null     float64\n",
      " 14  Hispanic/Latino                               72 non-null     int64  \n",
      " 15  HomeValue                                     72 non-null     int64  \n",
      " 16  HousePaymentas%ofIncome                       72 non-null     float64\n",
      " 17  HousingUnits                                  72 non-null     int64  \n",
      " 18  NonH/L%                                       72 non-null     float64\n",
      " 19  NotHispanic/Latino                            72 non-null     int64  \n",
      " 20  Population(Sheet1)                            72 non-null     int64  \n",
      " 21  PropertyTaxRate                               72 non-null     float64\n",
      " 22  RentForHouses                                 72 non-null     int64  \n",
      " 23  Value/IncomeRatio                             72 non-null     float64\n",
      " 24  %Age18+                                       72 non-null     float64\n",
      " 25  %Age25+                                       72 non-null     float64\n",
      " 26  %Age65+                                       72 non-null     float64\n",
      " 27  %Under18                                      72 non-null     float64\n",
      " 28  15+Divorced                                   72 non-null     float64\n",
      " 29  15+Married,SpouseAbsent                       72 non-null     float64\n",
      " 30  15+Married,SpousePresent                      72 non-null     float64\n",
      " 31  15+NeverMarried                               72 non-null     float64\n",
      " 32  15+NeverMarriedRanking                        72 non-null     int64  \n",
      " 33  15+Widowed                                    72 non-null     float64\n",
      " 34  MedianAge1                                    72 non-null     float64\n",
      " 35  Population                                    72 non-null     int64  \n",
      " 36  SpeakAsian/PacificIslander                    72 non-null     float64\n",
      " 37  SpeakEnglishOnly                              72 non-null     float64\n",
      " 38  SpeakIndo-European                            72 non-null     float64\n",
      " 39  SpeakOtherLanguage                            72 non-null     float64\n",
      " 40  SpeakSpanish                                  72 non-null     float64\n",
      " 41  %Pop25+Associates                             72 non-null     float64\n",
      " 42  %Pop25+Bachelors                              72 non-null     float64\n",
      " 43  %Pop25+Doctorate                              72 non-null     float64\n",
      " 44  %Pop25+HSGrad                                 72 non-null     float64\n",
      " 45  %Pop25+Masters                                72 non-null     float64\n",
      " 46  %Pop25+NonHSGrad                              72 non-null     float64\n",
      " 47  %Pop25+Professional                           72 non-null     float64\n",
      " 48  AvgVehiclesAvailable                          72 non-null     float64\n",
      " 49  AVGCntrDist                                   72 non-null     float64\n",
      " 50  AVGHwyDist                                    72 non-null     float64\n",
      " 51  AVGOceanDist                                  72 non-null     float64\n",
      " 52  AVGRailDist                                   72 non-null     float64\n",
      " 53  AVGSubcenterDist                              72 non-null     float64\n",
      " 54  AvgWaterDist                                  72 non-null     float64\n",
      " 55  MedianSpecFeatValu                            72 non-null     float64\n",
      " 56  Restaurants,Bars,Bakeries                     72 non-null     int64  \n",
      " 57  Supermarkets                                  72 non-null     int64  \n",
      " 58  School District Score                         53 non-null     float64\n",
      " 59  %White                                        72 non-null     float64\n",
      " 60  %Black/African American                       72 non-null     float64\n",
      " 61  %American Indian/Alaskan Native               72 non-null     float64\n",
      " 62  %Asian                                        72 non-null     float64\n",
      " 63  %Native Hawaiian/Pacific Islander             72 non-null     float64\n",
      " 64  %Other Race                                   72 non-null     float64\n",
      " 65  %2+Races                                      72 non-null     float64\n",
      " 66  Housing Density                               72 non-null     float64\n",
      " 67  Households with Children                      72 non-null     float64\n",
      "dtypes: float64(53), int64(14), object(1)\n",
      "memory usage: 38.4+ KB\n",
      "None\n"
     ]
    }
   ],
   "source": [
    "import pandas as pd\n",
    "import os\n",
    "\n",
    "os.chdir('/Users/siddharthsridher/Desktop/BAIS/datasets')\n",
    "\n",
    "df = pd.read_csv(\"Master Dataset Final (imputed nulls).csv\")\n",
    "\n",
    "print(df.info())"
   ]
  },
  {
   "cell_type": "markdown",
   "id": "762de363-0d17-4a4b-90e6-862e98b2bab3",
   "metadata": {},
   "source": [
    "# Normalization/scoring of variables\n",
    "\n",
    "### Normalization of variables is conducted by using the min/max normalization formula: (x-min(x))/(max(x)-min(x))"
   ]
  },
  {
   "cell_type": "code",
   "execution_count": 4,
   "id": "a215c844-99e0-4f54-a531-fd40e0ddcebe",
   "metadata": {},
   "outputs": [
    {
     "name": "stdout",
     "output_type": "stream",
     "text": [
      "0     0.093545\n",
      "1     0.112373\n",
      "2     0.109823\n",
      "3     0.110023\n",
      "4     0.162891\n",
      "        ...   \n",
      "67    0.261275\n",
      "68    0.248886\n",
      "69    0.221409\n",
      "70    0.228998\n",
      "71    0.235773\n",
      "Name: Commute Time Score, Length: 72, dtype: float64\n"
     ]
    }
   ],
   "source": [
    "#Commute Time\n",
    "\n",
    "#Normalize Average Commute Time (minutes)\n",
    "\n",
    "min_commute_time = df['AverageCommuteTime(Minutes)'].min()\n",
    "max_commute_time = df['AverageCommuteTime(Minutes)'].max()\n",
    "df['normalized_commute_time'] = (df['AverageCommuteTime(Minutes)'] - min_commute_time) / (max_commute_time - min_commute_time)\n",
    "\n",
    "\n",
    "weights = {\n",
    "    'Bicycle%': 0.25,  # Adjust the weight based on importance\n",
    "    'Public Transportation%': 0.25,\n",
    "    'Walked%': 0.25,\n",
    "    'Commute Time': 0.25\n",
    "}\n",
    "\n",
    "#Commute Time Score\n",
    "df['Commute Time Score'] = (df['TransportationtoWork:Bicycle(%)'] * weights['Bicycle%'] +\n",
    "               df['TransportationtoWork:PublicTransportation(%)'] * weights['Public Transportation%'] +\n",
    "               df['TransportationtoWork:Walked(%)'] * weights['Walked%'] +\n",
    "               df['normalized_commute_time'] * weights['Commute Time'])\n",
    "print(df['Commute Time Score'])"
   ]
  },
  {
   "cell_type": "code",
   "execution_count": 5,
   "id": "08dc4ba4-014d-4b0a-ac40-79202614495d",
   "metadata": {},
   "outputs": [
    {
     "name": "stdout",
     "output_type": "stream",
     "text": [
      "0     0.169054\n",
      "1     0.278655\n",
      "2     0.354658\n",
      "3     0.365961\n",
      "4     0.550251\n",
      "        ...   \n",
      "67    0.347370\n",
      "68    0.251039\n",
      "69    0.618078\n",
      "70    0.423486\n",
      "71    0.502808\n",
      "Name: Rail/Hwy Score, Length: 72, dtype: float64\n"
     ]
    }
   ],
   "source": [
    "#Distance to Hwy/Rail\n",
    "\n",
    "#Normalize Hwy Dist\n",
    "\n",
    "min_hwy_dist = df['AVGHwyDist'].min()\n",
    "max_hwy_dist = df['AVGHwyDist'].max()\n",
    "df['normalized_hwy_dist'] = (df['AVGHwyDist'] - min_hwy_dist) / (max_hwy_dist - min_hwy_dist)\n",
    "\n",
    "#Normalize Rail Dist\n",
    "min_rail_dist = df['AVGRailDist'].min()\n",
    "max_rail_dist = df['AVGRailDist'].max()\n",
    "df['normalized_rail_dist'] = (df['AVGRailDist']- min_rail_dist) / (max_rail_dist - min_rail_dist)\n",
    "\n",
    "weights = {\n",
    "    'Rail': 0.50,  # Adjust the weight based on importance\n",
    "    'Hwy': 0.50,\n",
    "}\n",
    "\n",
    "#Rail/Hwy Score\n",
    "df['Rail/Hwy Score'] = (df['normalized_hwy_dist']*weights['Hwy'] + df['normalized_rail_dist']*weights['Rail'])\n",
    "print(df['Rail/Hwy Score'])"
   ]
  },
  {
   "cell_type": "code",
   "execution_count": 6,
   "id": "581b5bad-73de-48b7-ba6a-5a2436fdec6d",
   "metadata": {},
   "outputs": [
    {
     "name": "stdout",
     "output_type": "stream",
     "text": [
      "0     0.467134\n",
      "1     0.640725\n",
      "2     0.186070\n",
      "3     0.288735\n",
      "4     0.191990\n",
      "        ...   \n",
      "67    0.045538\n",
      "68    0.000000\n",
      "69    0.028519\n",
      "70    0.003220\n",
      "71    0.134893\n",
      "Name: Amenities Score, Length: 72, dtype: float64\n",
      "0     0.225163\n",
      "1     0.345320\n",
      "2     0.295888\n",
      "3     0.442705\n",
      "4     0.576402\n",
      "        ...   \n",
      "67    0.469724\n",
      "68    0.516180\n",
      "69    0.485607\n",
      "70    0.480532\n",
      "71    0.508200\n",
      "Name: Central Score, Length: 72, dtype: float64\n"
     ]
    }
   ],
   "source": [
    "#Amenities\n",
    "\n",
    "#Normalize Rest/Bars/Bakeries\n",
    "min_rest = df['Restaurants,Bars,Bakeries'].min()\n",
    "max_rest = df['Restaurants,Bars,Bakeries'].max()\n",
    "df['normalized_rest'] = (df['Restaurants,Bars,Bakeries'] - min_rest)/ (max_rest - min_rest)\n",
    "\n",
    "#Normalize Supermarkets\n",
    "min_sup = df['Supermarkets'].min()\n",
    "max_sup = df['Supermarkets'].max()\n",
    "df['normalized_sup'] = (df['Supermarkets'] - min_sup) / (max_sup - min_sup)\n",
    "\n",
    "#Normalize Center \n",
    "min_cntr = df['AVGCntrDist'].min()\n",
    "max_cntr = df['AVGCntrDist'].max()\n",
    "df['normalized_cntr'] = (df['AVGCntrDist'] - min_cntr) / (max_cntr - min_cntr)\n",
    "\n",
    "#Normalize Subcenter\n",
    "min_sub = df['AVGSubcenterDist'].min()\n",
    "max_sub = df['AVGSubcenterDist'].max()\n",
    "df['normalized_sub'] = (df['AVGSubcenterDist'] - min_sub) / (max_sub - min_sub)\n",
    "\n",
    "weights = {\n",
    "    'Rest': 0.5,  # Adjust the weight based on importance\n",
    "    'Sup': 0.5,\n",
    "    'Cent': 0.5,\n",
    "    'Sub': .5\n",
    "}\n",
    "\n",
    "\n",
    "#Amenities Score\n",
    "df['Amenities Score'] = (df['normalized_rest']*weights['Rest'] + df['normalized_sup']*weights['Sup'])\n",
    "print(df['Amenities Score'])\n",
    "\n",
    "#Central Score\n",
    "df['Central Score'] = (df['normalized_cntr']*weights['Cent'] + df['normalized_sub']*weights['Sub'])\n",
    "print(df['Central Score'])"
   ]
  },
  {
   "cell_type": "code",
   "execution_count": 7,
   "id": "4b5a717f-1fb2-4727-a50f-8cc33b45f335",
   "metadata": {},
   "outputs": [
    {
     "name": "stdout",
     "output_type": "stream",
     "text": [
      "0     0.301739\n",
      "1     0.452991\n",
      "2     0.418704\n",
      "3     0.497456\n",
      "4     0.489696\n",
      "        ...   \n",
      "67    0.123094\n",
      "68    0.102939\n",
      "69    0.898812\n",
      "70    0.862310\n",
      "71    0.775649\n",
      "Name: Aquatic Proximity Score, Length: 72, dtype: float64\n"
     ]
    }
   ],
   "source": [
    "#Distance to Water/Ocean\n",
    "\n",
    "#Normalize Water Dist\n",
    "min_wat_dist = df['AvgWaterDist'].min()\n",
    "max_wat_dist = df['AvgWaterDist'].max()\n",
    "df['normalized_wat_dist'] = (df['AvgWaterDist'] - min_wat_dist) / (max_wat_dist - min_wat_dist)\n",
    "\n",
    "#Normalize Ocean Dist\n",
    "min_oce_dist = df['AVGOceanDist'].min()\n",
    "max_oce_dist = df['AVGOceanDist'].max()\n",
    "df['normalized_oce_dist'] = (df['AVGOceanDist']- min_oce_dist) / (max_oce_dist - min_oce_dist)\n",
    "\n",
    "weights = {\n",
    "    'Wat': 0.50,  # Adjust the weight based on importance\n",
    "    'Oce': 0.50,\n",
    "}\n",
    "\n",
    "#Aquatic Proximity Score\n",
    "df['Aquatic Proximity Score'] = (df['normalized_wat_dist']*weights['Wat'] + df['normalized_oce_dist']*weights['Oce'])\n",
    "print(df['Aquatic Proximity Score'])"
   ]
  },
  {
   "cell_type": "code",
   "execution_count": 8,
   "id": "921a295b-69d6-42ef-b364-c4cde8b93fd7",
   "metadata": {},
   "outputs": [
    {
     "name": "stdout",
     "output_type": "stream",
     "text": [
      "0     0.197687\n",
      "1     0.120846\n",
      "2     0.175532\n",
      "3     0.154835\n",
      "4     0.160411\n",
      "        ...   \n",
      "67    0.192028\n",
      "68    0.234774\n",
      "69    0.170922\n",
      "70    0.153363\n",
      "71    0.153362\n",
      "Name: Property Affordability Score, Length: 72, dtype: float64\n"
     ]
    }
   ],
   "source": [
    "#Property Affordability \n",
    "\n",
    "#No need to normalize Property tax since it is already a percentage\n",
    "\n",
    "#Normalize Home Value\n",
    "min_home_val = df['HomeValue'].min()\n",
    "max_home_val = df['HomeValue'].max()\n",
    "df['normalized_hom_val'] = (df['HomeValue'] - min_home_val) / (max_home_val - min_home_val)\n",
    "\n",
    "#Normalize Rent \n",
    "min_rent = df['RentForHouses'].min()\n",
    "max_rent = df['RentForHouses'].max()\n",
    "df['normalized_rent'] = (df['RentForHouses'] - min_rent) / (max_rent - min_rent)\n",
    "\n",
    "weights = {\n",
    "    'tax': 0.3,\n",
    "    'home': 0.4,\n",
    "    'rent': 0.3\n",
    "}\n",
    "\n",
    "#Property Affordability Score\n",
    "df['Property Affordability Score'] = (df['normalized_hom_val']*weights['home'] + df['normalized_rent']*weights['rent'] + df['PropertyTaxRate'])\n",
    "print(df['Property Affordability Score'])"
   ]
  },
  {
   "cell_type": "code",
   "execution_count": 9,
   "id": "612f476d-6fc0-4024-8251-1793e4517dca",
   "metadata": {},
   "outputs": [
    {
     "name": "stdout",
     "output_type": "stream",
     "text": [
      "0     49.454\n",
      "1     50.326\n",
      "2     50.094\n",
      "3     46.930\n",
      "4     44.262\n",
      "       ...  \n",
      "67    44.210\n",
      "68    41.150\n",
      "69    44.986\n",
      "70    42.230\n",
      "71    44.818\n",
      "Name: Age Score, Length: 72, dtype: float64\n",
      "0     50.0925\n",
      "1     50.9075\n",
      "2     50.6675\n",
      "3     47.9875\n",
      "4     45.6775\n",
      "       ...   \n",
      "67    45.6375\n",
      "68    43.0125\n",
      "69    46.2575\n",
      "70    43.6625\n",
      "71    46.1225\n",
      "Name: Age Range Score, Length: 72, dtype: float64\n"
     ]
    }
   ],
   "source": [
    "#Age Score\n",
    "\n",
    "#Normalize Median Age\n",
    "min_age = df['MedianAge'].min()\n",
    "max_age = df['MedianAge'].max()\n",
    "df['normalized_med_age'] = (df['MedianAge'] - min_age) / (max_age - min_age)\n",
    "\n",
    "weights = {\n",
    "    'med': .20,\n",
    "    '18+': .20,\n",
    "    '25+': .20,\n",
    "    '65+': .20,\n",
    "    '-18': .20\n",
    "}\n",
    "\n",
    "df['%Age18+']/100\n",
    "df['%Age25+']/100\n",
    "df['%Age65+']/100\n",
    "df['%Under18']/100\n",
    "#Age Score\n",
    "df['Age Score'] = (df['MedianAge']*weights['med'] + (df['%Age18+'])*weights['18+'] \n",
    "                   + (df['%Age25+'])*weights['25+'] \n",
    "                   + (df['%Age65+'])*weights['65+'] + (df['%Under18'])*weights['-18'])\n",
    "print(df['Age Score'])\n",
    "\n",
    "#Age Range Score\n",
    "df['Age Range Score'] = (df['%Age18+']*.25\n",
    "                   + df['%Age25+']*.25 \n",
    "                   + df['%Age65+']*.25 + df['%Under18']*.25)\n",
    "print(df['Age Range Score'])"
   ]
  },
  {
   "cell_type": "code",
   "execution_count": 10,
   "id": "9c755f9b-a015-4ea6-a64d-bd8bb1682623",
   "metadata": {},
   "outputs": [
    {
     "name": "stdout",
     "output_type": "stream",
     "text": [
      "0     11.223333\n",
      "1     11.222222\n",
      "2     11.222222\n",
      "3     11.222222\n",
      "4     11.223333\n",
      "        ...    \n",
      "67    11.221111\n",
      "68    11.222222\n",
      "69    11.223333\n",
      "70    11.222222\n",
      "71    11.223333\n",
      "Name: Diversity Score, Length: 72, dtype: float64\n",
      "0     0.5\n",
      "1     0.5\n",
      "2     0.5\n",
      "3     0.5\n",
      "4     0.5\n",
      "     ... \n",
      "67    0.5\n",
      "68    0.5\n",
      "69    0.5\n",
      "70    0.5\n",
      "71    0.5\n",
      "Name: Ethnicity Score, Length: 72, dtype: float64\n",
      "0     14.287143\n",
      "1     14.285714\n",
      "2     14.285714\n",
      "3     14.285714\n",
      "4     14.287143\n",
      "        ...    \n",
      "67    14.284286\n",
      "68    14.285714\n",
      "69    14.287143\n",
      "70    14.285714\n",
      "71    14.287143\n",
      "Name: Race Score, Length: 72, dtype: float64\n"
     ]
    }
   ],
   "source": [
    "#Diversity Score\n",
    "\n",
    "#All ethnicities and demographics are weighed the same\n",
    "\n",
    "#Results are all very similar\n",
    "\n",
    "df['Diversity Score'] = (df['H/L%'] *1/9 + df['NonH/L%']*1/9 + df['%White']*1/9 \n",
    "                        + df['%Black/African American']*1/9 + df['%American Indian/Alaskan Native']*1/9 \n",
    "                        + df['%Asian']*1/9 + df['%Native Hawaiian/Pacific Islander']*1/9\n",
    "                        + df['%Other Race']*1/9 + df['%2+Races']*1/9)\n",
    "print(df['Diversity Score'])\n",
    "\n",
    "#Ethnicity Index\n",
    "\n",
    "#Only using H/L\n",
    "\n",
    "df['Ethnicity Score'] = (df['H/L%']*0.5 + df['NonH/L%']*0.5)\n",
    "print(df['Ethnicity Score'])\n",
    "\n",
    "#Race Index\n",
    "\n",
    "df['Race Score'] = (df['%White']*1/7 \n",
    "                        + df['%Black/African American']*1/7 + df['%American Indian/Alaskan Native']*1/7\n",
    "                        + df['%Asian']*1/7 + df['%Native Hawaiian/Pacific Islander']*1/7\n",
    "                        + df['%Other Race']*1/7 + df['%2+Races']*1/7)\n",
    "print(df['Race Score'])"
   ]
  },
  {
   "cell_type": "code",
   "execution_count": 11,
   "id": "9db516b0-ebab-4eb9-bb46-bba58cc2fe75",
   "metadata": {},
   "outputs": [
    {
     "name": "stdout",
     "output_type": "stream",
     "text": [
      "0     0.045301\n",
      "1     0.050565\n",
      "2     0.068506\n",
      "3     0.109832\n",
      "4     0.148830\n",
      "        ...   \n",
      "67    0.142008\n",
      "68    0.181885\n",
      "69    0.170346\n",
      "70    0.267755\n",
      "71    0.215451\n",
      "Name: Income Score, Length: 72, dtype: float64\n"
     ]
    }
   ],
   "source": [
    "#Income Score\n",
    "\n",
    "min_inc = df['MedianHouseholdIncome'].min()\n",
    "max_inc = df['MedianHouseholdIncome'].max()\n",
    "df['normalized_med_inc'] = (df['MedianHouseholdIncome'] - min_inc) / (max_inc - min_inc)\n",
    "\n",
    "df['Income Score'] = (df['Population16+:Unemployed%']*.5 + df['normalized_med_inc']*.5)\n",
    "\n",
    "print(df['Income Score'])"
   ]
  },
  {
   "cell_type": "code",
   "execution_count": 12,
   "id": "70837521-0db0-4153-b50e-02e0be1dfb51",
   "metadata": {},
   "outputs": [
    {
     "name": "stdout",
     "output_type": "stream",
     "text": [
      "0     19.998\n",
      "1     20.000\n",
      "2     20.000\n",
      "3     20.000\n",
      "4     20.000\n",
      "       ...  \n",
      "67    19.998\n",
      "68    20.000\n",
      "69    19.998\n",
      "70    20.000\n",
      "71    19.998\n",
      "Name: Language Index, Length: 72, dtype: float64\n"
     ]
    }
   ],
   "source": [
    "#Language Index\n",
    "\n",
    "df['Language Index'] = (df['SpeakAsian/PacificIslander']*.20 + df['SpeakEnglishOnly']*.20 \n",
    "                        + df['SpeakIndo-European']*.20 + df['SpeakOtherLanguage']*.20 \n",
    "                        + df['SpeakSpanish']*.20)\n",
    "\n",
    "print(df['Language Index'])"
   ]
  },
  {
   "cell_type": "code",
   "execution_count": 15,
   "id": "c6927eb4-e0dd-4e95-a9c6-803a57ffe02a",
   "metadata": {},
   "outputs": [
    {
     "name": "stdout",
     "output_type": "stream",
     "text": [
      "0     0.042850\n",
      "1     0.053650\n",
      "2     0.052875\n",
      "3     0.082350\n",
      "4     0.089525\n",
      "        ...   \n",
      "67    0.079800\n",
      "68    0.104475\n",
      "69    0.096225\n",
      "70    0.118175\n",
      "71    0.116275\n",
      "Name: College degree Index, Length: 72, dtype: float64\n",
      "0     0.373483\n",
      "1     0.376617\n",
      "2     0.412158\n",
      "3     0.369550\n",
      "4     0.353042\n",
      "        ...   \n",
      "67    0.382233\n",
      "68    0.261625\n",
      "69    0.334508\n",
      "70    0.264825\n",
      "71    0.292625\n",
      "Name: Education Index, Length: 72, dtype: float64\n"
     ]
    }
   ],
   "source": [
    "#Education Index\n",
    "\n",
    "df['College degree Index'] = (df['%Pop25+Associates']*1/4 + df['%Pop25+Bachelors']*1/4 + \n",
    "                         df['%Pop25+Doctorate']*1/4 + df['%Pop25+Masters']*1/4)\n",
    "print(df['College degree Index'])\n",
    "\n",
    "df['Education Index'] = (df['College degree Index']*1/3 + df['%Pop25+NonHSGrad']*1/3 + df['%Pop25+HSGrad'])\n",
    "print(df['Education Index'])"
   ]
  },
  {
   "cell_type": "code",
   "execution_count": 16,
   "id": "62100ca5-21ab-4de8-990c-f477de4b1aca",
   "metadata": {},
   "outputs": [
    {
     "name": "stdout",
     "output_type": "stream",
     "text": [
      "0     21.714\n",
      "1     28.444\n",
      "2     23.336\n",
      "3     25.496\n",
      "4     21.516\n",
      "       ...  \n",
      "67    21.262\n",
      "68    19.496\n",
      "69    20.520\n",
      "70    27.210\n",
      "71    25.062\n",
      "Name: Marriage Index, Length: 72, dtype: float64\n"
     ]
    }
   ],
   "source": [
    "#Marriage Index\n",
    "df['15+Divorced']/100\n",
    "df['15+Married,SpouseAbsent']/100\n",
    "df['15+Married,SpousePresent']/100\n",
    "df['15+NeverMarried']/100\n",
    "df['15+NeverMarriedRanking']/100\n",
    "df['15+Widowed']/100\n",
    "\n",
    "df['Marriage Index'] = ((df['15+Divorced']*.2) + (df['15+Married,SpouseAbsent']*.2) \n",
    "                        + (df['15+Married,SpousePresent']*.2) + (df['15+NeverMarriedRanking']*.2)\n",
    "                        + (df['15+Widowed']*.2))\n",
    "print(df['Marriage Index'])"
   ]
  },
  {
   "cell_type": "code",
   "execution_count": 53,
   "id": "28669505-7cbc-4456-8e8b-775e2a572d01",
   "metadata": {},
   "outputs": [],
   "source": [
    "#to csv\n",
    "df.to_csv(\"Master Dataset Scores.csv\", index=False)"
   ]
  },
  {
   "cell_type": "markdown",
   "id": "7cb14cab-1314-4372-989a-f1b81b7cf911",
   "metadata": {},
   "source": [
    "# Transforming to Categorical Variables"
   ]
  },
  {
   "cell_type": "code",
   "execution_count": 17,
   "id": "62a88d93-8c5c-4083-846f-10e921e7aef2",
   "metadata": {},
   "outputs": [
    {
     "name": "stdout",
     "output_type": "stream",
     "text": [
      "0        Low\n",
      "1     Medium\n",
      "2     Medium\n",
      "3     Medium\n",
      "4     Medium\n",
      "       ...  \n",
      "67      High\n",
      "68      High\n",
      "69      High\n",
      "70      High\n",
      "71      High\n",
      "Name: CommuteTimeCategories, Length: 72, dtype: object\n",
      "0     1\n",
      "1     2\n",
      "2     2\n",
      "3     2\n",
      "4     2\n",
      "     ..\n",
      "67    3\n",
      "68    3\n",
      "69    3\n",
      "70    3\n",
      "71    3\n",
      "Name: CommuteTimeCategoriesNum, Length: 72, dtype: int64\n"
     ]
    }
   ],
   "source": [
    "#Commute Time Categories:\n",
    "#Low Scores mean short commute time\n",
    "categories = []\n",
    "for score in df['Commute Time Score']:\n",
    "    # Categorize based on cutoff points\n",
    "    if score < .1:\n",
    "        categories.append('Low')\n",
    "    elif score < .2:\n",
    "        categories.append('Medium')\n",
    "    else:\n",
    "        categories.append('High')\n",
    "df['CommuteTimeCategories'] = categories\n",
    "print(df['CommuteTimeCategories'])\n",
    "\n",
    "#Categorized by Number for ML\n",
    "def map_categories(category):\n",
    "    if category == 'Low':\n",
    "        return 1\n",
    "    elif category == 'Medium':\n",
    "        return 2\n",
    "    elif category == 'High':\n",
    "        return 3\n",
    "    else:\n",
    "        return None\n",
    "\n",
    "df['CommuteTimeCategoriesNum'] = df['CommuteTimeCategories'].apply(map_categories)\n",
    "print(df['CommuteTimeCategoriesNum'])"
   ]
  },
  {
   "cell_type": "code",
   "execution_count": 18,
   "id": "7e29b3b5-f981-40e8-b773-9f1cea62b1e5",
   "metadata": {},
   "outputs": [
    {
     "name": "stdout",
     "output_type": "stream",
     "text": [
      "0        Low\n",
      "1     Medium\n",
      "2     Medium\n",
      "3     Medium\n",
      "4       High\n",
      "       ...  \n",
      "67    Medium\n",
      "68    Medium\n",
      "69      High\n",
      "70      High\n",
      "71      High\n",
      "Name: RailHwyCategories, Length: 72, dtype: object\n",
      "0     1\n",
      "1     2\n",
      "2     2\n",
      "3     2\n",
      "4     3\n",
      "     ..\n",
      "67    2\n",
      "68    2\n",
      "69    3\n",
      "70    3\n",
      "71    3\n",
      "Name: RailHwyCategoriesNum, Length: 72, dtype: int64\n"
     ]
    }
   ],
   "source": [
    "#Rail/Hwy Categories\n",
    "#Low scores means shorter distance to rail/hwy\n",
    "categories1 = []\n",
    "for score in df['Rail/Hwy Score']:\n",
    "    # Categorize based on cutoff points\n",
    "    if score < .2:\n",
    "        categories1.append('Low')\n",
    "    elif score < .4:\n",
    "        categories1.append('Medium')\n",
    "    else:\n",
    "        categories1.append('High')\n",
    "df['RailHwyCategories'] = categories1\n",
    "print(df['RailHwyCategories'])\n",
    "\n",
    "#Categorized by Number for ML\n",
    "df['RailHwyCategoriesNum'] = df['RailHwyCategories'].apply(map_categories)\n",
    "print(df['RailHwyCategoriesNum'])"
   ]
  },
  {
   "cell_type": "code",
   "execution_count": 19,
   "id": "1fdc8432-cc32-4931-ab85-fbf5316967ca",
   "metadata": {},
   "outputs": [
    {
     "name": "stdout",
     "output_type": "stream",
     "text": [
      "0      Nearby\n",
      "1     Not far\n",
      "2      Nearby\n",
      "3     Not far\n",
      "4         Far\n",
      "       ...   \n",
      "67    Not far\n",
      "68        Far\n",
      "69    Not far\n",
      "70    Not far\n",
      "71        Far\n",
      "Name: CentralCategories, Length: 72, dtype: object\n",
      "0     1\n",
      "1     2\n",
      "2     1\n",
      "3     2\n",
      "4     3\n",
      "     ..\n",
      "67    2\n",
      "68    3\n",
      "69    2\n",
      "70    2\n",
      "71    3\n",
      "Name: CentralCategoriesNum, Length: 72, dtype: int64\n",
      "0     High\n",
      "1     High\n",
      "2      Low\n",
      "3     High\n",
      "4      Low\n",
      "      ... \n",
      "67     Low\n",
      "68     Low\n",
      "69     Low\n",
      "70     Low\n",
      "71     Low\n",
      "Name: AmenitiesCategories, Length: 72, dtype: object\n",
      "0     2\n",
      "1     2\n",
      "2     1\n",
      "3     2\n",
      "4     1\n",
      "     ..\n",
      "67    1\n",
      "68    1\n",
      "69    1\n",
      "70    1\n",
      "71    1\n",
      "Name: AmenitiesCategoriesNum, Length: 72, dtype: int64\n"
     ]
    }
   ],
   "source": [
    "#Central Categories\n",
    "#Higher the amenities score, the less proximity of bars/restaurants and distances to subcenter/center\n",
    "categories2 = []\n",
    "for score in df['Central Score']:\n",
    "    # Categorize based on cutoff points\n",
    "    if score < .30:\n",
    "        categories2.append('Nearby')\n",
    "    elif score < .50:\n",
    "        categories2.append('Not far')\n",
    "    else:\n",
    "        categories2.append('Far')\n",
    "df['CentralCategories'] = categories2\n",
    "print(df['CentralCategories'])\n",
    "\n",
    "#Categorized by Number\n",
    "def map_categories1(category):\n",
    "    if category == 'Nearby':\n",
    "        return 1\n",
    "    elif category == 'Not far':\n",
    "        return 2\n",
    "    elif category == 'Far':\n",
    "        return 3\n",
    "    else:\n",
    "        return None\n",
    "\n",
    "df['CentralCategoriesNum'] = df['CentralCategories'].apply(map_categories1)\n",
    "print(df['CentralCategoriesNum'])\n",
    "\n",
    "#Amenities Score\n",
    "#Higher the amenities score, the less proximity number bars/restaurants/bakeries/supermarkets\n",
    "categories10 = []\n",
    "for score in df['Amenities Score']:\n",
    "    # Categorize based on cutoff points\n",
    "    if score < .20:\n",
    "        categories10.append('Low')\n",
    "    else:\n",
    "        categories10.append('High')\n",
    "df['AmenitiesCategories'] = categories10\n",
    "print(df['AmenitiesCategories'])\n",
    "\n",
    "\n",
    "def map_categories10(category):\n",
    "    if category == 'Low':\n",
    "        return 1\n",
    "    elif category == 'High':\n",
    "        return 2\n",
    "    else:\n",
    "        return None\n",
    "df['AmenitiesCategoriesNum'] = df['AmenitiesCategories'].apply(map_categories10)\n",
    "print(df['AmenitiesCategoriesNum'])"
   ]
  },
  {
   "cell_type": "code",
   "execution_count": 20,
   "id": "6c59ceb8-5e5b-439a-a769-2cedfe82fc75",
   "metadata": {},
   "outputs": [
    {
     "name": "stdout",
     "output_type": "stream",
     "text": [
      "0     Less educated\n",
      "1     Less educated\n",
      "2     Less educated\n",
      "3     Less educated\n",
      "4     Less educated\n",
      "          ...      \n",
      "67    Less educated\n",
      "68         Educated\n",
      "69         Educated\n",
      "70         Educated\n",
      "71         Educated\n",
      "Name: EducationCategories, Length: 72, dtype: object\n",
      "0     3\n",
      "1     3\n",
      "2     3\n",
      "3     3\n",
      "4     3\n",
      "     ..\n",
      "67    3\n",
      "68    2\n",
      "69    2\n",
      "70    2\n",
      "71    2\n",
      "Name: EducationCategoriesNum, Length: 72, dtype: int64\n"
     ]
    }
   ],
   "source": [
    "#Education Categories\n",
    "categories11 = []\n",
    "for score in df['Education Index']:\n",
    "    # Categorize based on cutoff points\n",
    "    if score < .25:\n",
    "        categories11.append('Highly Educated')\n",
    "    elif score <.35:\n",
    "        categories11.append('Educated')\n",
    "    else:\n",
    "        categories11.append('Less educated')\n",
    "df['EducationCategories'] = categories11\n",
    "print(df['EducationCategories'])\n",
    "\n",
    "\n",
    "def map_categories11(category):\n",
    "    if category == 'Highly Educated':\n",
    "        return 1\n",
    "    elif category == 'Educated':\n",
    "        return 2\n",
    "    elif category == 'Less educated':\n",
    "        return 3\n",
    "    else:\n",
    "        return None\n",
    "df['EducationCategoriesNum'] = df['EducationCategories'].apply(map_categories11)\n",
    "print(df['EducationCategoriesNum'])"
   ]
  },
  {
   "cell_type": "code",
   "execution_count": 21,
   "id": "6aebb59c-8de1-41f0-938f-28b605b32498",
   "metadata": {},
   "outputs": [
    {
     "name": "stdout",
     "output_type": "stream",
     "text": [
      "0     Not far\n",
      "1         Far\n",
      "2         Far\n",
      "3         Far\n",
      "4         Far\n",
      "       ...   \n",
      "67     Nearby\n",
      "68     Nearby\n",
      "69        Far\n",
      "70        Far\n",
      "71        Far\n",
      "Name: AquaticCategories, Length: 72, dtype: object\n",
      "0     2\n",
      "1     3\n",
      "2     3\n",
      "3     3\n",
      "4     3\n",
      "     ..\n",
      "67    1\n",
      "68    1\n",
      "69    3\n",
      "70    3\n",
      "71    3\n",
      "Name: AquaticCategoriesNum, Length: 72, dtype: int64\n"
     ]
    }
   ],
   "source": [
    "#Aquatic Categories\n",
    "#lower score means nearby proximity\n",
    "categories3 = []\n",
    "for score in df['Aquatic Proximity Score']:\n",
    "    # Categorize based on cutoff points\n",
    "    if score < .20:\n",
    "        categories3.append('Nearby')\n",
    "    elif score < .40:\n",
    "        categories3.append('Not far')\n",
    "    else:\n",
    "        categories3.append('Far')\n",
    "df['AquaticCategories'] = categories3\n",
    "print(df['AquaticCategories'])\n",
    "\n",
    "#Categorized by Number\n",
    "df['AquaticCategoriesNum'] = df['AquaticCategories'].apply(map_categories1)\n",
    "print(df['AquaticCategoriesNum'])"
   ]
  },
  {
   "cell_type": "code",
   "execution_count": 22,
   "id": "f370d2bf-5b2b-405e-9331-b3750493e279",
   "metadata": {},
   "outputs": [
    {
     "name": "stdout",
     "output_type": "stream",
     "text": [
      "0            Fair\n",
      "1     Inexpensive\n",
      "2            Fair\n",
      "3            Fair\n",
      "4            Fair\n",
      "         ...     \n",
      "67           Fair\n",
      "68           Fair\n",
      "69           Fair\n",
      "70           Fair\n",
      "71           Fair\n",
      "Name: PropertyAffordabilityCategories, Length: 72, dtype: object\n",
      "0     2\n",
      "1     1\n",
      "2     2\n",
      "3     2\n",
      "4     2\n",
      "     ..\n",
      "67    2\n",
      "68    2\n",
      "69    2\n",
      "70    2\n",
      "71    2\n",
      "Name: PropertyAffordabilityCategoriesNum, Length: 72, dtype: int64\n"
     ]
    }
   ],
   "source": [
    "#Property Affordability Categories\n",
    "#lower score means nearby proximity\n",
    "categories4 = []\n",
    "for score in df['Property Affordability Score']:\n",
    "    # Categorize based on cutoff points\n",
    "    if score < .15:\n",
    "        categories4.append('Inexpensive')\n",
    "    elif score < .30:\n",
    "        categories4.append('Fair')\n",
    "    else:\n",
    "        categories4.append('Costly')\n",
    "df['PropertyAffordabilityCategories'] = categories4\n",
    "print(df['PropertyAffordabilityCategories'])\n",
    "\n",
    "#Categorized by Number\n",
    "def map_categories2(category):\n",
    "    if category == 'Inexpensive':\n",
    "        return 1\n",
    "    elif category == 'Fair':\n",
    "        return 2\n",
    "    elif category == 'Costly':\n",
    "        return 3\n",
    "    else:\n",
    "        return None\n",
    "df['PropertyAffordabilityCategoriesNum'] = df['PropertyAffordabilityCategories'].apply(map_categories2)\n",
    "print(df['PropertyAffordabilityCategoriesNum'])"
   ]
  },
  {
   "cell_type": "code",
   "execution_count": 23,
   "id": "73ebe816-3136-4b13-af74-5aa7555e61f0",
   "metadata": {},
   "outputs": [
    {
     "name": "stdout",
     "output_type": "stream",
     "text": [
      "0        Poor\n",
      "1        Poor\n",
      "2        Poor\n",
      "3        Fair\n",
      "4        Fair\n",
      "       ...   \n",
      "67       Fair\n",
      "68       Fair\n",
      "69       Fair\n",
      "70    Wealthy\n",
      "71    Wealthy\n",
      "Name: IncomeCategories, Length: 72, dtype: object\n",
      "0     1\n",
      "1     1\n",
      "2     1\n",
      "3     2\n",
      "4     2\n",
      "     ..\n",
      "67    2\n",
      "68    2\n",
      "69    2\n",
      "70    3\n",
      "71    3\n",
      "Name: IncomeCategoriesNum, Length: 72, dtype: int64\n"
     ]
    }
   ],
   "source": [
    "#Income Categories\n",
    "#lower score means less wealthy\n",
    "categories5 = []\n",
    "for score in df['Income Score']:\n",
    "    # Categorize based on cutoff points\n",
    "    if score < .10:\n",
    "        categories5.append('Poor')\n",
    "    elif score < .20:\n",
    "        categories5.append('Fair')\n",
    "    else:\n",
    "        categories5.append('Wealthy')\n",
    "df['IncomeCategories'] = categories5\n",
    "print(df['IncomeCategories'])\n",
    "\n",
    "#Categorized by Number\n",
    "def map_categories3(category):\n",
    "    if category == 'Poor':\n",
    "        return 1\n",
    "    elif category == 'Fair':\n",
    "        return 2\n",
    "    elif category == 'Wealthy':\n",
    "        return 3\n",
    "    else:\n",
    "        return None\n",
    "df['IncomeCategoriesNum'] = df['IncomeCategories'].apply(map_categories3)\n",
    "print(df['IncomeCategoriesNum'])"
   ]
  },
  {
   "cell_type": "code",
   "execution_count": 24,
   "id": "0ba48f36-e661-42e0-8293-1b83bc883ae7",
   "metadata": {},
   "outputs": [
    {
     "name": "stdout",
     "output_type": "stream",
     "text": [
      "0     Mostly married\n",
      "1     Mostly married\n",
      "2     Mostly married\n",
      "3     Mostly married\n",
      "4     Mostly married\n",
      "           ...      \n",
      "67    Mostly married\n",
      "68     Mostly single\n",
      "69    Mostly married\n",
      "70    Mostly married\n",
      "71    Mostly married\n",
      "Name: MarriageCategories, Length: 72, dtype: object\n",
      "0     2\n",
      "1     2\n",
      "2     2\n",
      "3     2\n",
      "4     2\n",
      "     ..\n",
      "67    2\n",
      "68    1\n",
      "69    2\n",
      "70    2\n",
      "71    2\n",
      "Name: MarriageCategoriesNum, Length: 72, dtype: int64\n"
     ]
    }
   ],
   "source": [
    "#Marriage Categories\n",
    "#lower the score means mostly single\n",
    "categories6 = []\n",
    "for score in df['Marriage Index']:\n",
    "    # Categorize based on cutoff points\n",
    "    if score < 20:\n",
    "        categories6.append('Mostly single')\n",
    "    else:\n",
    "        categories6.append('Mostly married')\n",
    "df['MarriageCategories'] = categories6\n",
    "print(df['MarriageCategories'])\n",
    "\n",
    "#Categorized by Number\n",
    "def map_categories4(category):\n",
    "    if category == 'Mostly single':\n",
    "        return 1\n",
    "    elif category == 'Mostly married':\n",
    "        return 2\n",
    "    else:\n",
    "        return None\n",
    "df['MarriageCategoriesNum'] = df['MarriageCategories'].apply(map_categories4)\n",
    "print(df['MarriageCategoriesNum'])"
   ]
  },
  {
   "cell_type": "code",
   "execution_count": 25,
   "id": "12619621-dfb5-4eb0-a2ad-b4733fd5c5b8",
   "metadata": {},
   "outputs": [
    {
     "name": "stdout",
     "output_type": "stream",
     "text": [
      "0            Older\n",
      "1            Older\n",
      "2            Older\n",
      "3            Older\n",
      "4            Older\n",
      "          ...     \n",
      "67           Older\n",
      "68    Mostly Young\n",
      "69           Older\n",
      "70           Older\n",
      "71           Older\n",
      "Name: MedianCategories, Length: 72, dtype: object\n",
      "0     2\n",
      "1     2\n",
      "2     2\n",
      "3     2\n",
      "4     2\n",
      "     ..\n",
      "67    2\n",
      "68    1\n",
      "69    2\n",
      "70    2\n",
      "71    2\n",
      "Name: MedianCategoriesNum, Length: 72, dtype: int64\n"
     ]
    }
   ],
   "source": [
    "#Median Age Categories\n",
    "categories7 = []\n",
    "for score in df['MedianAge']:\n",
    "    # Categorize based on cutoff points\n",
    "    if score < 36:\n",
    "        categories7.append('Mostly Young')\n",
    "    else:\n",
    "        categories7.append('Older')\n",
    "df['MedianCategories'] = categories7\n",
    "print(df['MedianCategories'])\n",
    "\n",
    "#Categorized by Number\n",
    "def map_categories5(category):\n",
    "    if category == 'Mostly Young':\n",
    "        return 1\n",
    "    elif category == 'Older':\n",
    "        return 2\n",
    "    else:\n",
    "        return None\n",
    "df['MedianCategoriesNum'] = df['MedianCategories'].apply(map_categories5)\n",
    "print(df['MedianCategoriesNum'])"
   ]
  },
  {
   "cell_type": "code",
   "execution_count": 26,
   "id": "427e4dac-1e70-4c26-944d-a318d18b56f7",
   "metadata": {},
   "outputs": [
    {
     "name": "stdout",
     "output_type": "stream",
     "text": [
      "0       High\n",
      "1       High\n",
      "2     Medium\n",
      "3     Medium\n",
      "4       High\n",
      "       ...  \n",
      "67    Medium\n",
      "68    Medium\n",
      "69    Medium\n",
      "70       Low\n",
      "71       Low\n",
      "Name: HDCategories, Length: 72, dtype: object\n",
      "0     3\n",
      "1     3\n",
      "2     2\n",
      "3     2\n",
      "4     3\n",
      "     ..\n",
      "67    2\n",
      "68    2\n",
      "69    2\n",
      "70    1\n",
      "71    1\n",
      "Name: HDCategoriesNum, Length: 72, dtype: int64\n"
     ]
    }
   ],
   "source": [
    "#Housing Density\n",
    "categories8 = []\n",
    "for score in df['Housing Density']:\n",
    "    # Categorize based on cutoff points\n",
    "    if score < 1500:\n",
    "        categories8.append('Low')\n",
    "    elif score < 3500:\n",
    "        categories8.append('Medium')\n",
    "    else:\n",
    "        categories8.append('High')\n",
    "df['HDCategories'] = categories8\n",
    "print(df['HDCategories'])\n",
    "\n",
    "#Categorized by Number\n",
    "df['HDCategoriesNum'] = df['HDCategories'].apply(map_categories)\n",
    "print(df['HDCategoriesNum'])"
   ]
  },
  {
   "cell_type": "code",
   "execution_count": 27,
   "id": "35631cde-4c6d-4aab-965d-bbd0a9b059b1",
   "metadata": {},
   "outputs": [
    {
     "name": "stdout",
     "output_type": "stream",
     "text": [
      "0     Medium\n",
      "1     Medium\n",
      "2     Medium\n",
      "3     Medium\n",
      "4       High\n",
      "       ...  \n",
      "67      High\n",
      "68      High\n",
      "69      High\n",
      "70      High\n",
      "71      High\n",
      "Name: ChildCategories, Length: 72, dtype: object\n",
      "0     2\n",
      "1     2\n",
      "2     2\n",
      "3     2\n",
      "4     3\n",
      "     ..\n",
      "67    3\n",
      "68    3\n",
      "69    3\n",
      "70    3\n",
      "71    3\n",
      "Name: ChildCategoriesNum, Length: 72, dtype: int64\n"
     ]
    }
   ],
   "source": [
    "#Households with Children Categories\n",
    "categories9 = []\n",
    "for score in df['HouseholdwithChildren']:\n",
    "    # Categorize based on cutoff points\n",
    "    if score < 25:\n",
    "        categories9.append('Low')\n",
    "    elif score < 40:\n",
    "        categories9.append('Medium')\n",
    "    else:\n",
    "        categories9.append('High')\n",
    "df['ChildCategories'] = categories9\n",
    "print(df['ChildCategories'])\n",
    "\n",
    "#Categorized by Number\n",
    "df['ChildCategoriesNum'] = df['ChildCategories'].apply(map_categories)\n",
    "print(df['ChildCategoriesNum'])"
   ]
  },
  {
   "cell_type": "code",
   "execution_count": 29,
   "id": "818d9e3d-6da0-450a-bfb4-6f2069a326f4",
   "metadata": {},
   "outputs": [],
   "source": [
    "#to csv\n",
    "df.to_csv(\"Master Dataset Categories.csv\", index=False)"
   ]
  },
  {
   "cell_type": "code",
   "execution_count": 30,
   "id": "20f11fe6-103d-40e8-895f-45d15c253088",
   "metadata": {},
   "outputs": [
    {
     "name": "stdout",
     "output_type": "stream",
     "text": [
      "<class 'pandas.core.frame.DataFrame'>\n",
      "RangeIndex: 72 entries, 0 to 71\n",
      "Data columns (total 14 columns):\n",
      " #   Column                              Non-Null Count  Dtype \n",
      "---  ------                              --------------  ----- \n",
      " 0   ZipCode                             72 non-null     int64 \n",
      " 1   Neighborhood                        72 non-null     object\n",
      " 2   CommuteTimeCategoriesNum            72 non-null     int64 \n",
      " 3   RailHwyCategoriesNum                72 non-null     int64 \n",
      " 4   CentralCategoriesNum                72 non-null     int64 \n",
      " 5   AmenitiesCategoriesNum              72 non-null     int64 \n",
      " 6   EducationCategoriesNum              72 non-null     int64 \n",
      " 7   AquaticCategoriesNum                72 non-null     int64 \n",
      " 8   PropertyAffordabilityCategoriesNum  72 non-null     int64 \n",
      " 9   IncomeCategoriesNum                 72 non-null     int64 \n",
      " 10  MarriageCategoriesNum               72 non-null     int64 \n",
      " 11  MedianCategoriesNum                 72 non-null     int64 \n",
      " 12  HDCategoriesNum                     72 non-null     int64 \n",
      " 13  ChildCategoriesNum                  72 non-null     int64 \n",
      "dtypes: int64(13), object(1)\n",
      "memory usage: 8.0+ KB\n",
      "None\n"
     ]
    }
   ],
   "source": [
    "import pandas as pd\n",
    "import os\n",
    "from sklearn.model_selection import train_test_split\n",
    "from sklearn.neighbors import KNeighborsClassifier\n",
    "\n",
    "os.chdir('/Users/siddharthsridher/Desktop/BAIS/datasets')\n",
    "\n",
    "df1 = pd.read_csv(\"Master Dataset Categories copy.csv\")\n",
    "print(df1.info())"
   ]
  },
  {
   "cell_type": "markdown",
   "id": "dc97fa8c-07a1-42f9-800e-a6ccb996980e",
   "metadata": {},
   "source": [
    "# Statistical Model Analysis"
   ]
  },
  {
   "cell_type": "markdown",
   "id": "9049f230-b5a5-4348-b37d-1726c4d77c34",
   "metadata": {},
   "source": [
    "## Test/Train Split"
   ]
  },
  {
   "cell_type": "code",
   "execution_count": 32,
   "id": "2f731124-04ba-4dd1-9e58-5c048488540f",
   "metadata": {},
   "outputs": [
    {
     "data": {
      "text/plain": [
       "((54, 12), (54,), (18, 12), (18,))"
      ]
     },
     "execution_count": 32,
     "metadata": {},
     "output_type": "execute_result"
    }
   ],
   "source": [
    "#features\n",
    "\n",
    "columns_to_drop = [\"Neighborhood\", \"ZipCode\"]\n",
    "\n",
    "df_subset = df1.drop(columns_to_drop, axis = 1)\n",
    "X = df_subset\n",
    "\n",
    "#target\n",
    "y = df1[\"Neighborhood\"]\n",
    "\n",
    "\n",
    "#test/train split\n",
    "X_train, X_test, y_train, y_test = train_test_split(X, y, test_size=.25, random_state=0)\n",
    "\n",
    "X_train.shape, y_train.shape, X_test.shape, y_test.shape"
   ]
  },
  {
   "cell_type": "markdown",
   "id": "b8707fd6-115d-4bf4-93d5-575374e55591",
   "metadata": {},
   "source": [
    "## KNN Classification"
   ]
  },
  {
   "cell_type": "code",
   "execution_count": 4,
   "id": "817cf19c-9d5e-4f1b-88c8-92f1fe237180",
   "metadata": {},
   "outputs": [
    {
     "data": {
      "text/plain": [
       "(0.2962962962962963, 0.4444444444444444)"
      ]
     },
     "execution_count": 4,
     "metadata": {},
     "output_type": "execute_result"
    }
   ],
   "source": [
    "from sklearn.neighbors import KNeighborsClassifier\n",
    "\n",
    "#knn model\n",
    "knc = KNeighborsClassifier(n_neighbors=44)\n",
    "knc\n",
    "\n",
    "#fit data to model\n",
    "knc.fit(X_train, y_train)\n",
    "\n",
    "#score test/train set\n",
    "knc.score(X_train, y_train), knc.score(X_test, y_test)                 "
   ]
  },
  {
   "cell_type": "markdown",
   "id": "be4819a1-72d4-4219-9e6a-96b29f75a2ba",
   "metadata": {},
   "source": [
    "## Decision Tree Classification"
   ]
  },
  {
   "cell_type": "code",
   "execution_count": 5,
   "id": "0ca8c7bf-6ff3-4a7b-b63b-8ba920f83c21",
   "metadata": {},
   "outputs": [
    {
     "data": {
      "text/plain": [
       "(1.0, 0.5)"
      ]
     },
     "execution_count": 5,
     "metadata": {},
     "output_type": "execute_result"
    }
   ],
   "source": [
    "from sklearn.tree import DecisionTreeClassifier\n",
    "\n",
    "dtc = DecisionTreeClassifier(random_state=100)\n",
    "dtc\n",
    "\n",
    "dtc.fit(X_train, y_train)\n",
    "dtc.score(X_train, y_train), dtc.score(X_test, y_test)"
   ]
  },
  {
   "cell_type": "markdown",
   "id": "9215b8a7-d0cf-4379-a26e-e9cdcb9f7600",
   "metadata": {},
   "source": [
    "## Random Forest Classification"
   ]
  },
  {
   "cell_type": "code",
   "execution_count": 6,
   "id": "0f73812f-c95d-4e90-9c83-f1054034e3d3",
   "metadata": {},
   "outputs": [
    {
     "data": {
      "text/plain": [
       "(1.0, 0.5555555555555556)"
      ]
     },
     "execution_count": 6,
     "metadata": {},
     "output_type": "execute_result"
    }
   ],
   "source": [
    "from sklearn.ensemble import RandomForestClassifier\n",
    "\n",
    "rfc = RandomForestClassifier(random_state=200)\n",
    "rfc\n",
    "\n",
    "rfc.fit(X_train, y_train)\n",
    "rfc.score(X_train, y_train), rfc.score(X_test, y_test)"
   ]
  },
  {
   "cell_type": "markdown",
   "id": "8242afe2-d013-4e95-9b28-b1e22c12e9c3",
   "metadata": {},
   "source": [
    "## Linear Support Vector Machine"
   ]
  },
  {
   "cell_type": "code",
   "execution_count": 7,
   "id": "e375fcb5-fc88-4aa3-81f2-e3cb0734a5ac",
   "metadata": {},
   "outputs": [
    {
     "name": "stderr",
     "output_type": "stream",
     "text": [
      "/Users/siddharthsridher/anaconda3/envs/jupyterlab/lib/python3.12/site-packages/sklearn/svm/_classes.py:31: FutureWarning: The default value of `dual` will change from `True` to `'auto'` in 1.5. Set the value of `dual` explicitly to suppress the warning.\n",
      "  warnings.warn(\n",
      "/Users/siddharthsridher/anaconda3/envs/jupyterlab/lib/python3.12/site-packages/sklearn/svm/_base.py:1237: ConvergenceWarning: Liblinear failed to converge, increase the number of iterations.\n",
      "  warnings.warn(\n"
     ]
    },
    {
     "data": {
      "text/plain": [
       "(0.8888888888888888, 0.3888888888888889)"
      ]
     },
     "execution_count": 7,
     "metadata": {},
     "output_type": "execute_result"
    }
   ],
   "source": [
    "from sklearn.svm import LinearSVC\n",
    "\n",
    "lsvc = LinearSVC(random_state=90)\n",
    "lsvc\n",
    "lsvc.fit(X_train, y_train)\n",
    "lsvc.score(X_train, y_train), lsvc.score(X_test, y_test)"
   ]
  },
  {
   "cell_type": "markdown",
   "id": "5eb90597-170f-4ead-8a26-9bca86f37e4c",
   "metadata": {},
   "source": [
    "## Kernelized Support Vector Machine"
   ]
  },
  {
   "cell_type": "code",
   "execution_count": 8,
   "id": "62549448-b895-44c1-9afe-29bd27b30148",
   "metadata": {},
   "outputs": [
    {
     "data": {
      "text/plain": [
       "(0.6851851851851852, 0.5555555555555556)"
      ]
     },
     "execution_count": 8,
     "metadata": {},
     "output_type": "execute_result"
    }
   ],
   "source": [
    "from sklearn.svm import SVC\n",
    "\n",
    "svc = SVC(C=1.0, kernel=\"rbf\", gamma=\"scale\", random_state=0)\n",
    "svc\n",
    "\n",
    "svc.fit(X_train, y_train)\n",
    "svc.score(X_train, y_train), svc.score(X_test, y_test)"
   ]
  },
  {
   "cell_type": "markdown",
   "id": "9cace65b-c632-4701-83a5-4fdf96017480",
   "metadata": {},
   "source": [
    "## Neural Network"
   ]
  },
  {
   "cell_type": "code",
   "execution_count": 33,
   "id": "83ef06e7-32f4-4b0e-8ce1-1d8693010c9c",
   "metadata": {},
   "outputs": [
    {
     "name": "stderr",
     "output_type": "stream",
     "text": [
      "/Users/siddharthsridher/anaconda3/envs/jupyterlab/lib/python3.12/site-packages/sklearn/neural_network/_multilayer_perceptron.py:691: ConvergenceWarning: Stochastic Optimizer: Maximum iterations (200) reached and the optimization hasn't converged yet.\n",
      "  warnings.warn(\n"
     ]
    },
    {
     "data": {
      "text/plain": [
       "(0.35185185185185186, 0.6111111111111112)"
      ]
     },
     "execution_count": 33,
     "metadata": {},
     "output_type": "execute_result"
    }
   ],
   "source": [
    "from sklearn.neural_network import MLPClassifier\n",
    "\n",
    "mlpc = MLPClassifier(hidden_layer_sizes=(10,), random_state=200)\n",
    "mlpc\n",
    "\n",
    "mlpc.fit(X_train, y_train)\n",
    "\n",
    "mlpc.score(X_train, y_train), mlpc.score(X_test, y_test)"
   ]
  },
  {
   "cell_type": "markdown",
   "id": "a7e24ca6-d5b4-4210-864a-cea0b2b5dd5a",
   "metadata": {},
   "source": [
    "# Making Predictions"
   ]
  },
  {
   "cell_type": "markdown",
   "id": "92b2dc8a-3a06-435a-bbe0-204cc083f0a9",
   "metadata": {},
   "source": [
    "## Initializing person"
   ]
  },
  {
   "cell_type": "code",
   "execution_count": 107,
   "id": "c32c1b5e-edc0-4d0c-8c3e-d7a070706291",
   "metadata": {},
   "outputs": [],
   "source": [
    "person1 = {\"CommuteTimeCategoriesNum\": 1, #low commute,\n",
    "           \"AmenitiesCategoriesNum\": 3, #low proximity of amenities\n",
    "           \"AquaticCategoriesNum\": 2, #not far away from water\n",
    "           \"PropertyAffordabilityCategoriesNum\": 2, #fair property value\n",
    "           \"IncomeCategoriesNum\": 1, #Poor income status\n",
    "           \"MarriageCategoriesNum \": 1, #Mostly Single\n",
    "           \"MedianCategoriesNum\": 2, #Older\n",
    "            \"HDCategoriesNum\": 1, #Low Housing Density\n",
    "            \"ChildCategoriesNum\": 2, #Fair number of hh with children\n",
    "            \"RailHwyCategoriesNum\": 1,#near commuter paths (rail/hwy)\n",
    "            \"EducationRankingNum\": 1} #Highly educated\n",
    "\n",
    "person2 = {\"CommuteTimeCategoriesNum\": 3, #high commute,\n",
    "           \"AmenitiesCategoriesNum\": 2, #fair proximity of amenities\n",
    "           \"AquaticCategoriesNum\": 1, #close to water\n",
    "           \"PropertyAffordabilityCategoriesNum\": 1, #low property value\n",
    "           \"IncomeCategoriesNum\": 0, #Poor income status\n",
    "           \"MarriageCategoriesNum \": 2, #Mostly Married\n",
    "           \"MedianCategoriesNum\": 2, #Older\n",
    "            \"HDCategoriesNum\": 2, #Medium Housing Density\n",
    "            \"ChildCategoriesNum\": 1, #Low number of hh with children\n",
    "            \"RailHwyCategoriesNum\": 3, #far away from commuter paths (rail/hwy)\n",
    "            \"EducationRankingNum\": 2} #educated\n",
    "\n",
    "person3 = {\"CommuteTimeCategoriesNum\": 2, #fair commute,\n",
    "           \"AmenitiesCategoriesNum\": 1, #close proximity of amenities\n",
    "           \"AquaticCategoriesNum\": 3, #far away from water\n",
    "           \"PropertyAffordabilityCategoriesNum\": 3, #high property value\n",
    "           \"IncomeCategoriesNum\": 3, #Poor income status\n",
    "           \"MarriageCategoriesNum \": 1, #Mostly Single\n",
    "           \"MedianCategoriesNum\": 1, #Mostly young\n",
    "            \"HDCategoriesNum\": 3, #Low Housing Density\n",
    "            \"ChildCategoriesNum\": 3, #High number of hh with children\n",
    "            \"RailHwyCategoriesNum\": 2, #fair distance from commuter paths (rail/hwy)\n",
    "            \"EducationRankingNum\": 3} #less educated\n",
    "\n"
   ]
  },
  {
   "cell_type": "code",
   "execution_count": 110,
   "id": "4bfcaf18-234b-4415-8c31-5468c0d88668",
   "metadata": {},
   "outputs": [
    {
     "data": {
      "text/plain": [
       "[[1, 3, 2, 2, 1, 1, 2, 1, 2, 1, 1],\n",
       " [3, 2, 1, 1, 0, 2, 2, 2, 1, 3, 2],\n",
       " [2, 1, 3, 3, 3, 1, 1, 3, 3, 2, 3]]"
      ]
     },
     "execution_count": 110,
     "metadata": {},
     "output_type": "execute_result"
    }
   ],
   "source": [
    "X_new = []\n",
    "\n",
    "for person in [person1, person2, person3]:\n",
    "    new_person = [person[\"CommuteTimeCategoriesNum\"], person[\"AmenitiesCategoriesNum\"], person[\"AquaticCategoriesNum\"], \n",
    "                  person[\"PropertyAffordabilityCategoriesNum\"], \n",
    "                  person[\"IncomeCategoriesNum\"], person[\"MarriageCategoriesNum \"],\n",
    "                  person[\"MedianCategoriesNum\"], person[\"HDCategoriesNum\"],\n",
    "                  person[\"ChildCategoriesNum\"], person[\"RailHwyCategoriesNum\"], person[\"EducationRankingNum\"]]\n",
    "    X_new.append(new_person)\n",
    "    \n",
    "X_new"
   ]
  },
  {
   "cell_type": "markdown",
   "id": "9536ed10-c56d-4f95-b6ad-52665d395425",
   "metadata": {},
   "source": [
    "## Predictions by Model"
   ]
  },
  {
   "cell_type": "code",
   "execution_count": 111,
   "id": "0d014cf9-b7c6-4531-872a-b4a452794218",
   "metadata": {},
   "outputs": [
    {
     "name": "stdout",
     "output_type": "stream",
     "text": [
      "['SouthwestMiami' 'SouthwestMiami' 'Hialeah']\n",
      "['NortheastMiami' 'Homestead' 'HialeahGardens']\n",
      "['NortheastMiami' 'SouthwestMiami' 'HialeahGardens']\n",
      "['SouthwestMiami' 'SouthwestMiami' 'SouthwestMiami']\n",
      "['NortheastMiami' 'MiamiBeach' 'HialeahGardens']\n",
      "['SouthwestMiami' 'SouthwestMiami' 'SouthwestMiami']\n"
     ]
    },
    {
     "name": "stderr",
     "output_type": "stream",
     "text": [
      "/Users/siddharthsridher/anaconda3/lib/python3.10/site-packages/sklearn/base.py:465: UserWarning: X does not have valid feature names, but KNeighborsClassifier was fitted with feature names\n",
      "  warnings.warn(\n",
      "/Users/siddharthsridher/anaconda3/lib/python3.10/site-packages/sklearn/base.py:465: UserWarning: X does not have valid feature names, but DecisionTreeClassifier was fitted with feature names\n",
      "  warnings.warn(\n",
      "/Users/siddharthsridher/anaconda3/lib/python3.10/site-packages/sklearn/base.py:465: UserWarning: X does not have valid feature names, but RandomForestClassifier was fitted with feature names\n",
      "  warnings.warn(\n",
      "/Users/siddharthsridher/anaconda3/lib/python3.10/site-packages/sklearn/base.py:465: UserWarning: X does not have valid feature names, but SVC was fitted with feature names\n",
      "  warnings.warn(\n",
      "/Users/siddharthsridher/anaconda3/lib/python3.10/site-packages/sklearn/base.py:465: UserWarning: X does not have valid feature names, but LinearSVC was fitted with feature names\n",
      "  warnings.warn(\n",
      "/Users/siddharthsridher/anaconda3/lib/python3.10/site-packages/sklearn/base.py:465: UserWarning: X does not have valid feature names, but MLPClassifier was fitted with feature names\n",
      "  warnings.warn(\n"
     ]
    }
   ],
   "source": [
    "print(knc.predict(X_new))  #knn means\n",
    "print(dtc.predict(X_new))  #decision tree classification\n",
    "print(rfc.predict(X_new))  #random forest\n",
    "print(svc.predict(X_new))  #support vector machine\n",
    "print(lsvc.predict(X_new)) #kernelized support vector machine\n",
    "print(mlpc.predict(X_new)) #neural network"
   ]
  },
  {
   "cell_type": "code",
   "execution_count": 112,
   "id": "b485d6f6-f206-4011-8078-2cc64a3bbb8b",
   "metadata": {},
   "outputs": [
    {
     "name": "stdout",
     "output_type": "stream",
     "text": [
      "['NortheastMiami' 'MiamiBeach' 'HialeahGardens']\n"
     ]
    },
    {
     "name": "stderr",
     "output_type": "stream",
     "text": [
      "/Users/siddharthsridher/anaconda3/lib/python3.10/site-packages/sklearn/base.py:465: UserWarning: X does not have valid feature names, but LinearSVC was fitted with feature names\n",
      "  warnings.warn(\n"
     ]
    }
   ],
   "source": [
    "print(lsvc.predict(X_new)) #kernelized support vector machine"
   ]
  },
  {
   "cell_type": "code",
   "execution_count": null,
   "id": "7b42e67d-ecab-4ae1-b7a8-1658be2b9bcc",
   "metadata": {},
   "outputs": [],
   "source": [
    "import pandas as pd\n",
    "import os\n",
    "from sklearn.model_selection import train_test_split\n",
    "import warnings\n",
    "from sklearn.svm import SVC\n",
    "import numpy as np\n",
    "from sklearn.neural_network import MLPClassifier\n",
    "\n",
    "warnings.filterwarnings(\"ignore\")\n",
    "\n",
    "# Neural network\n",
    "mlpc = MLPClassifier(hidden_layer_sizes=(10,), random_state=200)\n",
    "\n",
    "def get_user_input(prompt, min_value, max_value):\n",
    "    while True:\n",
    "        try:\n",
    "            user_input = int(input(prompt))\n",
    "            if min_value <= user_input <= max_value:\n",
    "                return user_input\n",
    "            else:\n",
    "                print(\"Please enter a number within the specified range.\")\n",
    "        except ValueError:\n",
    "            print(\"Please enter a valid number.\")\n",
    "\n",
    "def preprocess_input(user_input):\n",
    "    X_new = np.array([\n",
    "        user_input[\"CommuteTimeCategoriesNum\"],\n",
    "        user_input[\"CentralCategoriesNum\"],\n",
    "        user_input[\"AmenitiesCategoriesNum\"],\n",
    "        user_input[\"AquaticCategoriesNum\"],\n",
    "        user_input[\"PropertyAffordabilityCategoriesNum\"],\n",
    "        user_input[\"IncomeCategoriesNum\"],\n",
    "        user_input[\"MarriageCategoriesNum\"],\n",
    "        user_input[\"MedianCategoriesNum\"],\n",
    "        user_input[\"HDCategoriesNum\"],\n",
    "        user_input[\"ChildCategoriesNum\"],\n",
    "        user_input[\"RailHwyCategoriesNum\"],\n",
    "        user_input[\"EducationRankingNum\"]\n",
    "    ]).reshape(1, -1)\n",
    "    return X_new\n",
    "\n",
    "def predict_category(user_input, model):\n",
    "    X_new = preprocess_input(user_input)\n",
    "    prediction = model.predict(X_new)\n",
    "    return prediction\n",
    "\n",
    "def main():\n",
    "    df1 = pd.read_csv(\"Master Dataset Categories copy.csv\")\n",
    "    #features\n",
    "\n",
    "    columns_to_drop = [\"Neighborhood\", \"ZipCode\"]\n",
    "\n",
    "    df_subset = df1.drop(columns_to_drop, axis = 1)\n",
    "    X = df_subset\n",
    "\n",
    "    #target\n",
    "    y = df1[\"Neighborhood\"]\n",
    "\n",
    "    mlpc = MLPClassifier(hidden_layer_sizes=(10,), random_state=200)\n",
    "    mlpc.fit(X_test, y_test)\n",
    "    score = mlpc.score(X_test, y_test)\n",
    "    person = {}\n",
    "    person[\"CommuteTimeCategoriesNum\"] = get_user_input(\"On a scale of 1 to 3, how would you like the commute time to work from a neighborhood to be like? (1: Low, 2: Fair, 3: High): \", 1, 3)\n",
    "    person[\"CentralCategoriesNum\"] = get_user_input(\"On a scale of 1 to 3, how central would you like a neighborhood to be a subcenter and the Miami central business district? (1: Close, 2: Intermediate, 3: Far): \", 1, 3)\n",
    "    person[\"AmenitiesCategoriesNum\"] = get_user_input(\"On a scale of 1 to 2, rate the quantity of amenities (bars/restaurants/supermarkets/bakeries) you would like in your neighborhood? (1: Low, 2: High): \", 1, 2)\n",
    "    person[\"AquaticCategoriesNum\"] = get_user_input(\"On a scale of 1 to 3, how close do you want a body (or bodies) of water to a neighborhood? (1: Close, 2: Intermediate, 3: Far): \", 1, 3)\n",
    "    person[\"PropertyAffordabilityCategoriesNum\"] = get_user_input(\"On a scale of 1 to 3, rate your expectation for the property affordability in a neighborhood? (1: Low, 2: Fair, 3: High): \", 1, 3)\n",
    "    person[\"IncomeCategoriesNum\"] = get_user_input(\"On a scale of 1 to 3, what is your expectation for income status of most individuals in a neighborhood? (1: Poor, 2: Fair, 3: Wealthy): \", 1, 3)\n",
    "    person[\"MarriageCategoriesNum\"] = get_user_input(\"On a scale of 1 to 2, what is your expectation for marital status of most individuals in a neighborhood? (1: Mostly Single, 2: Mostly Married): \", 1, 2)\n",
    "    person[\"MedianCategoriesNum\"] = get_user_input(\"On a scale of 1 to 2, what is your expectation for age in a neighborhood? (1: Younger, 2: Older): \", 1, 2)\n",
    "    person[\"HDCategoriesNum\"] = get_user_input(\"On a scale of 1 to 3, what is your expectation for the number of houses (housing density) in a neighborhood? (1: Low, 2: Medium, 3: High): \", 1, 3)\n",
    "    person[\"ChildCategoriesNum\"] = get_user_input(\"On a scale of 1 to 3, what is your expectation for households with children in a neighborhood? (1: Low, 2: Medium, 3: High): \", 1, 3)\n",
    "    person[\"RailHwyCategoriesNum\"] = get_user_input(\"On a scale of 1 to 3, what is your expecation for distance from railroads and highways in a neighborhood (1: Near, 2: Intermediate, 3: Far): \", 1, 3)\n",
    "    person[\"EducationRankingNum\"] = get_user_input(\"On a scale of 1 to 3, what is your expectation for education level among most individuals in a neighborhood? (1: Highly Educated, 2: Educated, 3: Less educated): \", 1, 3)\n",
    "    \n",
    "    prediction = predict_category(person, mlpc)\n",
    "    #print(\"Model accuracy:\", score)\n",
    "    print(\"Predicted category:\", prediction)\n",
    "\n",
    "if __name__ == \"__main__\":\n",
    "    main()"
   ]
  }
 ],
 "metadata": {
  "kernelspec": {
   "display_name": "Python 3 (ipykernel)",
   "language": "python",
   "name": "python3"
  },
  "language_info": {
   "codemirror_mode": {
    "name": "ipython",
    "version": 3
   },
   "file_extension": ".py",
   "mimetype": "text/x-python",
   "name": "python",
   "nbconvert_exporter": "python",
   "pygments_lexer": "ipython3",
   "version": "3.10.9"
  }
 },
 "nbformat": 4,
 "nbformat_minor": 5
}
